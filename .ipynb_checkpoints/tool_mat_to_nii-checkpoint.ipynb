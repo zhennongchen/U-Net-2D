{
 "cells": [
  {
   "cell_type": "code",
   "execution_count": 1,
   "metadata": {},
   "outputs": [],
   "source": [
    "import numpy as np\n",
    "import U_Net_function_list as ff\n",
    "import os\n",
    "import scipy.io\n",
    "import nibabel as nb"
   ]
  },
  {
   "cell_type": "code",
   "execution_count": 4,
   "metadata": {},
   "outputs": [
    {
     "name": "stdout",
     "output_type": "stream",
     "text": [
      "[]\n"
     ]
    }
   ],
   "source": [
    "main_path ='/Volumes/Seagate MacOS/AI_plane_validation_study/Segs/';\n",
    "patient_list = ff.find_all_target_files(['Normal/*','Abnormal/*'],main_path)\n",
    "print(patient_list)"
   ]
  },
  {
   "cell_type": "code",
   "execution_count": 3,
   "metadata": {},
   "outputs": [],
   "source": [
    "for i in range(0,patient_list.shape[0]):\n",
    "    p = patient_list[i]\n",
    "    patient_id = os.path.basename(p)\n",
    "    \n",
    "\n",
    "    if os.path.isdir(os.path.join(p,'seg-pred')) == 1 and os.path.isdir(os.path.join(p,'seg-predconnected-mat')) == 1:\n",
    "        print(patient_id)\n",
    "        mat_folder = os.path.join(p,'seg-pred-connected-mat')\n",
    "        mat_list = ff.sort_timeframe(ff.find_all_target_files(['*.mat'],mat_folder),1,'_')\n",
    "        for m in mat_list:\n",
    "            t = ff.find_timeframe(m,1,'_')\n",
    "            ##########\n",
    "            data = scipy.io.loadmat(m) \n",
    "            data = data['image']\n",
    "            ##########\n",
    "            \n",
    "            # load corresponding nii file for affine matrix\n",
    "            seg_file = nb.load(os.path.join(p,'seg-pred','pred_s_'+str(t)+'.nii.gz'))\n",
    "            seg_connected = nb.Nifti1Image(data, seg_file.affine)\n",
    "            # save\n",
    "            save_file = os.path.join(p,'seg-pred-connected','pred_s_'+str(t)+'.nii.gz')\n",
    "            os.makedirs(os.path.dirname(save_file), exist_ok = True)\n",
    "            nb.save(seg_connected, save_file)\n",
    "            \n",
    "  "
   ]
  },
  {
   "cell_type": "code",
   "execution_count": null,
   "metadata": {},
   "outputs": [],
   "source": []
  }
 ],
 "metadata": {
  "kernelspec": {
   "display_name": "Python 3",
   "language": "python",
   "name": "python3"
  },
  "language_info": {
   "codemirror_mode": {
    "name": "ipython",
    "version": 3
   },
   "file_extension": ".py",
   "mimetype": "text/x-python",
   "name": "python",
   "nbconvert_exporter": "python",
   "pygments_lexer": "ipython3",
   "version": "3.6.10"
  }
 },
 "nbformat": 4,
 "nbformat_minor": 4
}
